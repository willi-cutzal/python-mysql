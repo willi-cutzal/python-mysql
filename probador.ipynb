{
 "cells": [
  {
   "cell_type": "code",
   "execution_count": 1,
   "metadata": {},
   "outputs": [],
   "source": [
    "import mysql.connector as mc"
   ]
  },
  {
   "cell_type": "code",
   "execution_count": 11,
   "metadata": {},
   "outputs": [],
   "source": [
    "mydb = mc.connect(\n",
    "    host='localhost',\n",
    "    user='root',\n",
    "    password='whitny5963'\n",
    ")"
   ]
  },
  {
   "cell_type": "code",
   "execution_count": 12,
   "metadata": {},
   "outputs": [],
   "source": [
    "mycursor = mydb.cursor()"
   ]
  },
  {
   "cell_type": "code",
   "execution_count": 13,
   "metadata": {},
   "outputs": [],
   "source": [
    "mycursor.execute(\"show databases;\")"
   ]
  },
  {
   "cell_type": "code",
   "execution_count": 14,
   "metadata": {},
   "outputs": [
    {
     "name": "stdout",
     "output_type": "stream",
     "text": [
      "('checkpoint_m2',)\n",
      "('full',)\n",
      "('henry',)\n",
      "('henry_checkpoint_m3',)\n",
      "('information_schema',)\n",
      "('intelaf',)\n",
      "('mysql',)\n",
      "('performance_schema',)\n",
      "('pi_1',)\n",
      "('prueba',)\n",
      "('prueba_python_sql',)\n",
      "('sakila',)\n",
      "('smartphones',)\n",
      "('sys',)\n",
      "('universidad',)\n",
      "('world',)\n"
     ]
    }
   ],
   "source": [
    "for i in mycursor:\n",
    "    print(i)"
   ]
  },
  {
   "cell_type": "code",
   "execution_count": 15,
   "metadata": {},
   "outputs": [],
   "source": [
    "mycursor.execute(\"use universidad;\")"
   ]
  },
  {
   "cell_type": "code",
   "execution_count": 16,
   "metadata": {},
   "outputs": [],
   "source": [
    "mycursor.execute(\"show tables;\")"
   ]
  },
  {
   "cell_type": "code",
   "execution_count": 17,
   "metadata": {},
   "outputs": [
    {
     "name": "stdout",
     "output_type": "stream",
     "text": [
      "('alumno',)\n",
      "('nota',)\n"
     ]
    }
   ],
   "source": [
    "for i in mycursor:\n",
    "    print(i)"
   ]
  },
  {
   "cell_type": "code",
   "execution_count": 18,
   "metadata": {},
   "outputs": [],
   "source": [
    "mycursor.execute(\"select * from alumno;\")"
   ]
  },
  {
   "cell_type": "code",
   "execution_count": 19,
   "metadata": {},
   "outputs": [
    {
     "data": {
      "text/plain": [
       "[(1, 'Luis', 'Lopez', 202201, 'M'),\n",
       " (2, 'María', 'Pérez', 202209, 'F'),\n",
       " (3, 'Carlos', 'Raúl', 202202, 'M'),\n",
       " (4, 'Lisandro', 'González', 202203, 'M'),\n",
       " (5, 'Carla', 'Campos', 202207, 'F'),\n",
       " (6, 'Laura', 'Linares', 202206, 'F'),\n",
       " (7, 'Bety', 'Solís', 202205, 'F'),\n",
       " (8, 'Ruben', 'Cáceres', 202208, 'M'),\n",
       " (9, 'Raul', 'Yun', 202204, 'M'),\n",
       " (10, 'Agustina', 'Weber', 202200, 'F')]"
      ]
     },
     "execution_count": 19,
     "metadata": {},
     "output_type": "execute_result"
    }
   ],
   "source": [
    "mycursor.fetchall()"
   ]
  },
  {
   "cell_type": "code",
   "execution_count": 20,
   "metadata": {},
   "outputs": [],
   "source": [
    "mycursor.execute('SElect * from alumno;')"
   ]
  },
  {
   "cell_type": "code",
   "execution_count": 21,
   "metadata": {},
   "outputs": [],
   "source": [
    "a = mycursor.fetchall()"
   ]
  },
  {
   "cell_type": "code",
   "execution_count": 22,
   "metadata": {},
   "outputs": [
    {
     "name": "stdout",
     "output_type": "stream",
     "text": [
      "(1, 'Luis', 'Lopez', 202201, 'M')\n",
      "(2, 'María', 'Pérez', 202209, 'F')\n",
      "(3, 'Carlos', 'Raúl', 202202, 'M')\n",
      "(4, 'Lisandro', 'González', 202203, 'M')\n",
      "(5, 'Carla', 'Campos', 202207, 'F')\n",
      "(6, 'Laura', 'Linares', 202206, 'F')\n",
      "(7, 'Bety', 'Solís', 202205, 'F')\n",
      "(8, 'Ruben', 'Cáceres', 202208, 'M')\n",
      "(9, 'Raul', 'Yun', 202204, 'M')\n",
      "(10, 'Agustina', 'Weber', 202200, 'F')\n"
     ]
    }
   ],
   "source": [
    "for i in a:\n",
    "    print(i)"
   ]
  },
  {
   "cell_type": "code",
   "execution_count": 27,
   "metadata": {},
   "outputs": [],
   "source": [
    "def select(tabla):\n",
    "    mycursor.execute(f\"select * from {tabla}\")\n",
    "    return mycursor.fetchall()"
   ]
  },
  {
   "cell_type": "code",
   "execution_count": 30,
   "metadata": {},
   "outputs": [
    {
     "data": {
      "text/plain": [
       "[(1, 'Luis', 'Lopez', 202201, 'M'),\n",
       " (2, 'María', 'Pérez', 202209, 'F'),\n",
       " (3, 'Carlos', 'Raúl', 202202, 'M'),\n",
       " (4, 'Lisandro', 'González', 202203, 'M'),\n",
       " (5, 'Carla', 'Campos', 202207, 'F'),\n",
       " (6, 'Laura', 'Linares', 202206, 'F'),\n",
       " (7, 'Bety', 'Solís', 202205, 'F'),\n",
       " (8, 'Ruben', 'Cáceres', 202208, 'M'),\n",
       " (9, 'Raul', 'Yun', 202204, 'M'),\n",
       " (10, 'Agustina', 'Weber', 202200, 'F')]"
      ]
     },
     "execution_count": 30,
     "metadata": {},
     "output_type": "execute_result"
    }
   ],
   "source": [
    "select(\"alumno\")"
   ]
  },
  {
   "cell_type": "code",
   "execution_count": null,
   "metadata": {},
   "outputs": [],
   "source": []
  }
 ],
 "metadata": {
  "kernelspec": {
   "display_name": "mysql-python-Z4p2dpyY",
   "language": "python",
   "name": "python3"
  },
  "language_info": {
   "codemirror_mode": {
    "name": "ipython",
    "version": 3
   },
   "file_extension": ".py",
   "mimetype": "text/x-python",
   "name": "python",
   "nbconvert_exporter": "python",
   "pygments_lexer": "ipython3",
   "version": "3.9.13"
  },
  "orig_nbformat": 4,
  "vscode": {
   "interpreter": {
    "hash": "d049117c828425fbdca3dfff3ff55875cec887836ca5f33beb35dfc20600000a"
   }
  }
 },
 "nbformat": 4,
 "nbformat_minor": 2
}
